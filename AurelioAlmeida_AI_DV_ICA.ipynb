{
 "cells": [
  {
   "cell_type": "code",
   "execution_count": 33,
   "id": "ec77e2d0",
   "metadata": {},
   "outputs": [
    {
     "name": "stdout",
     "output_type": "stream",
     "text": [
      "Requirement already satisfied: python-constraint in c:\\users\\aurelioalmeida\\anaconda3\\lib\\site-packages (1.4.0)\n"
     ]
    }
   ],
   "source": [
    "!pip install python-constraint"
   ]
  },
  {
   "cell_type": "code",
   "execution_count": 1,
   "id": "67783eb0",
   "metadata": {
    "scrolled": false
   },
   "outputs": [
    {
     "name": "stdout",
     "output_type": "stream",
     "text": [
      "Valid Solutions:\n",
      "Combination 1:\n",
      "  Python Programmer 1: Ciara\n",
      "  Database Admin: Jane\n",
      "  Python Programmer 2: Jane\n",
      "  Systems Engineer: Jim\n",
      "  Web Designer: Anita\n",
      "  AI Engineer 1: Anita\n",
      "  AI Engineer 2: Jim\n",
      "\n",
      "\n",
      "Combination 2:\n",
      "  Python Programmer 1: Ciara\n",
      "  Database Admin: Jane\n",
      "  Python Programmer 2: Jane\n",
      "  Systems Engineer: Jim\n",
      "  Web Designer: Anita\n",
      "  AI Engineer 1: Jim\n",
      "  AI Engineer 2: Anita\n",
      "\n",
      "\n",
      "Combination 3:\n",
      "  Python Programmer 1: Ciara\n",
      "  Database Admin: Jane\n",
      "  Python Programmer 2: Jane\n",
      "  Systems Engineer: Jim\n",
      "  Web Designer: Juan\n",
      "  AI Engineer 1: Jim\n",
      "  AI Engineer 2: Juan\n",
      "\n",
      "\n",
      "Combination 4:\n",
      "  Python Programmer 1: Ciara\n",
      "  Database Admin: Jane\n",
      "  Python Programmer 2: Jane\n",
      "  Systems Engineer: Jim\n",
      "  Web Designer: Juan\n",
      "  AI Engineer 1: Juan\n",
      "  AI Engineer 2: Jim\n",
      "\n",
      "\n"
     ]
    }
   ],
   "source": [
    "from constraint import Problem\n",
    "\n",
    "def find_hiring_combinations():\n",
    "    problem = Problem()\n",
    "\n",
    "    # Define the candidates and their possible roles based on their abilities\n",
    "    candidates = {\n",
    "        \"Peter\": [\"Python Programmer\", \"AI Engineer\"],\n",
    "        \"Juan\": [\"Web Designer\", \"AI Engineer\"],\n",
    "        \"Jim\": [\"AI Engineer\", \"Systems Engineer\"],\n",
    "        \"Jane\": [\"Python Programmer\", \"Database Admin\"],\n",
    "        \"Mary\": [\"Web Designer\", \"Systems Engineer\"],\n",
    "        \"Bruce\": [\"Systems Engineer\", \"Python Programmer\"],\n",
    "        \"Anita\": [\"Web Designer\", \"AI Engineer\"]\n",
    "    }\n",
    "\n",
    "    # List of roles that need to be filled, including a second role for Python Programmer\n",
    "    roles = [\"Python Programmer 2\", \"AI Engineer 1\", \"AI Engineer 2\", \"Web Designer\", \"Database Admin\", \"Systems Engineer\"]\n",
    "\n",
    "    # Assign candidates to roles based on their listed abilities\n",
    "    for role in roles:\n",
    "        # Adjust role names to match the abilities of candidates\n",
    "        adjusted_role = role if \"Python Programmer\" not in role else \"Python Programmer\"\n",
    "        adjusted_role = adjusted_role if \"AI Engineer\" not in role else \"AI Engineer\"\n",
    "        problem.addVariable(role, [name for name, skills in candidates.items() if adjusted_role in skills])\n",
    "\n",
    "    # Constraint: Ensure that each candidate is assigned to a maximum of two roles\n",
    "    # This includes a specific check for the AI Engineer roles to be filled by different individuals\n",
    "    def role_constraint(pp2, ae1, ae2, wd, da, se):\n",
    "        all_candidates = [\"Ciara\", pp2, ae1, ae2, wd, da, se]  # Ciara is pre-assigned as one of the Python Programmers\n",
    "        # Ensure AI Engineer roles are taken by different individuals\n",
    "        if len(set([ae1, ae2])) < 2:  \n",
    "            return False\n",
    "        # Ensure no candidate is assigned more than two roles\n",
    "        return all(all_candidates.count(candidate) <= 2 for candidate in set(all_candidates))\n",
    "\n",
    "    problem.addConstraint(role_constraint, roles)\n",
    "\n",
    "    # Additional constraint: Ensure the total team size is four (including Ciara)\n",
    "    def hiring_constraint(pp2, ae1, ae2, wd, da, se):\n",
    "        return len(set([\"Ciara\", pp2, ae1, ae2, wd, da, se])) == 4\n",
    "\n",
    "    problem.addConstraint(hiring_constraint, roles)\n",
    "\n",
    "    # Find solutions that satisfy all constraints\n",
    "    return problem.getSolutions()\n",
    "\n",
    "# Execute the function to find valid hiring combinations\n",
    "hiring_combinations = find_hiring_combinations()\n",
    "\n",
    "# Display the valid combinations\n",
    "print(\"Valid Solutions:\")\n",
    "for i, solution in enumerate(hiring_combinations, start=1):\n",
    "    print(f\"Combination {i}:\")\n",
    "    # Indicating that Ciara is always one of the Python Programmers\n",
    "    print(\"  Python Programmer 1: Ciara\")\n",
    "    # Display the roles and the candidates assigned to them\n",
    "    for role, candidate in solution.items():\n",
    "        # Adjust the role name for the second Python Programmer for clarity\n",
    "        role_name = \"Python Programmer 2\" if role == \"Python Programmer 2\" else role\n",
    "        print(f\"  {role_name}: {candidate}\")\n",
    "    print(\"\\n\")"
   ]
  },
  {
   "cell_type": "code",
   "execution_count": null,
   "id": "10250769",
   "metadata": {},
   "outputs": [],
   "source": []
  }
 ],
 "metadata": {
  "kernelspec": {
   "display_name": "Python 3 (ipykernel)",
   "language": "python",
   "name": "python3"
  },
  "language_info": {
   "codemirror_mode": {
    "name": "ipython",
    "version": 3
   },
   "file_extension": ".py",
   "mimetype": "text/x-python",
   "name": "python",
   "nbconvert_exporter": "python",
   "pygments_lexer": "ipython3",
   "version": "3.9.12"
  }
 },
 "nbformat": 4,
 "nbformat_minor": 5
}
